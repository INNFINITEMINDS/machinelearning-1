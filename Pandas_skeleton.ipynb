{
  "cells": [
    {
      "cell_type": "markdown",
      "metadata": {},
      "source": [
        "# Pandas notebook\n",
        "\n",
        "## Getting started with Pandas\n",
        "\n",
        "Start by loading the `pandas` library (with alias `pd`) then load the dataset `airfoil2.csv` using the `read_csv()` function; call the corresponding dataframe `df`.\n",
        "Use the `head()` method to show how `df` looks like.\n",
        "\n",
        "Note that this `read_csv()` function is very flexible and can accomodate all sorts of file. \n",
        "You will do this in much more details in module 2.\n",
        "For now, we're giving you a nicely formatted dataset that directly works well with Pandas."
      ]
    },
    {
      "cell_type": "code",
      "execution_count": 0,
      "metadata": {},
      "outputs": [],
      "source": [
        "# import the library\n",
        "\n",
        "# load the dataframe, use \"head\" to have a look\n",
        "\n"
      ]
    },
    {
      "cell_type": "markdown",
      "metadata": {},
      "source": [
        "### Retrieving some basic informations \n",
        "\n",
        "Now that you have a DataFrame object `df`, you can explore the kind of information that is stored (beyond the actual data). Using the TAB completion you can get an idea for all the methods and attributes that you may want to use. \n",
        "\n",
        "Examples of useful attributes\n",
        "\n",
        "* `shape` stores the dimensions of the data frame\n",
        "* `columns` stores the names of the columns \n",
        "* `index` stores the names of the rows, by default pandas uses a range from 0 to the number of rows\n",
        "* `dtypes` stores the `dtype` of each column\n",
        "\n",
        "Show all of those, check it matches what you expected versus the output of `head` used earlier."
      ]
    },
    {
      "cell_type": "code",
      "execution_count": 0,
      "metadata": {},
      "outputs": [],
      "source": [
        "# add your code here to explore the meta-informations of df\n",
        "\n"
      ]
    },
    {
      "cell_type": "markdown",
      "metadata": {},
      "source": [
        "## Accessing elements in a dataframe\n",
        "\n",
        "Let's get the 11th value of Frequency using several different approaches:\n",
        "\n",
        "1. retrieve the series and then access the 10th value\n",
        "1. using `iloc`\n",
        "1. using `loc`"
      ]
    },
    {
      "cell_type": "code",
      "execution_count": 0,
      "metadata": {},
      "outputs": [],
      "source": [
        "# add your code here\n",
        "\n"
      ]
    },
    {
      "cell_type": "markdown",
      "metadata": {},
      "source": [
        "### Using loc for fancy selections\n",
        "\n",
        "Using `loc()`, can you retrieve the sub-dataframe with all the columns whose name has strictly more than 15 characters? Call this `df2`. Using `to_csv`, output this as a tab separated file (not comma) and call the file `airfoil2_2.dat`.\n",
        "\n",
        "(Open the file in an editor to check it matches what you expect)."
      ]
    },
    {
      "cell_type": "code",
      "execution_count": 0,
      "metadata": {
        "collapsed": true
      },
      "outputs": [],
      "source": [
        "# add your code here\n",
        "\n"
      ]
    },
    {
      "cell_type": "markdown",
      "metadata": {},
      "source": [
        "### Working with a Pd.Series\n",
        "\n",
        "Retrieve the series corresponding to the sound pressure from the dataframe, display\n",
        "\n",
        "* show the name of the series\n",
        "* show the shape attribute of the series (does it correspond to what you expected?)\n",
        "* the mean and the median\n",
        "* the mean of the squared values"
      ]
    },
    {
      "cell_type": "code",
      "execution_count": 0,
      "metadata": {},
      "outputs": [],
      "source": [
        "# add your code here\n",
        "\n"
      ]
    }
  ],
  "metadata": {
    "kernelspec": {
      "display_name": "Python 3",
      "language": "python",
      "name": "python3"
    },
    "language_info": {
      "codemirror_mode": {
        "name": "ipython",
        "version": 3
      },
      "file_extension": ".py",
      "mimetype": "text/x-python",
      "name": "python",
      "nbconvert_exporter": "python",
      "pygments_lexer": "ipython3",
      "version": "3.6.3"
    }
  },
  "nbformat": 4,
  "nbformat_minor": 2
}